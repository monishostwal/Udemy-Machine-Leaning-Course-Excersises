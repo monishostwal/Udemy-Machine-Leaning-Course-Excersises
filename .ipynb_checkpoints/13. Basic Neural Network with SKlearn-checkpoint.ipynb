{
 "cells": [
  {
   "cell_type": "code",
   "execution_count": 54,
   "metadata": {},
   "outputs": [],
   "source": [
    "import numpy as np\n",
    "import matplotlib.pyplot as plt"
   ]
  },
  {
   "cell_type": "code",
   "execution_count": 41,
   "metadata": {},
   "outputs": [],
   "source": [
    "observations=1000\n",
    "xs=np.random.uniform(low=-10,high=10,size=(observations,1))\n",
    "zs=np.random.uniform(low=-10,high=10,size=(observations,1))\n",
    "inputs=np.column_stack((xs,zs))"
   ]
  },
  {
   "cell_type": "code",
   "execution_count": 48,
   "metadata": {},
   "outputs": [
    {
     "data": {
      "text/plain": [
       "(1000, 2)"
      ]
     },
     "execution_count": 48,
     "metadata": {},
     "output_type": "execute_result"
    }
   ],
   "source": [
    "inputs.shape"
   ]
  },
  {
   "cell_type": "code",
   "execution_count": 49,
   "metadata": {},
   "outputs": [],
   "source": [
    "#y=2x+3z+5+noise\n",
    "noise=np.random.uniform(-1,1,(observations,1))\n",
    "targets=2*xs+3*zs+5+noise\n"
   ]
  },
  {
   "cell_type": "code",
   "execution_count": 50,
   "metadata": {},
   "outputs": [
    {
     "name": "stdout",
     "output_type": "stream",
     "text": [
      "[[0.08422667]\n",
      " [0.03975724]]\n"
     ]
    }
   ],
   "source": [
    "weights=np.random.uniform(-0.1,0.1,(2,1))\n",
    "biases=np.random.uniform(-0.1,0.1,1)\n",
    "print(weights)"
   ]
  },
  {
   "cell_type": "code",
   "execution_count": 51,
   "metadata": {},
   "outputs": [],
   "source": [
    "learning_rate=0.02"
   ]
  },
  {
   "cell_type": "code",
   "execution_count": 52,
   "metadata": {},
   "outputs": [
    {
     "name": "stdout",
     "output_type": "stream",
     "text": [
      "219.3768972952502\n",
      "34.53945824640224\n",
      "13.773595589302408\n",
      "11.089259049592377\n",
      "10.41860550355672\n",
      "9.986168915086173\n",
      "9.594447390617828\n",
      "9.220876798655247\n",
      "8.862392889974405\n",
      "8.518134405095427\n",
      "8.187508303253503\n",
      "7.869971501345314\n",
      "7.565005428896875\n",
      "7.272112389637371\n",
      "6.990814429902761\n",
      "6.720652521918555\n",
      "6.461185810486206\n",
      "6.211990893090055\n",
      "5.972661128922916\n",
      "5.742805975315308\n",
      "5.522050350439988\n",
      "5.310034021246487\n",
      "5.106411015626245\n",
      "4.910849057849021\n",
      "4.723029026349306\n",
      "4.542644432977938\n",
      "4.369400922869144\n",
      "4.203015794106927\n",
      "4.043217536406915\n",
      "3.8897453880609394\n",
      "3.7423489104213226\n",
      "3.6007875792305395\n",
      "3.46483039212934\n",
      "3.3342554917029066\n",
      "3.2088498034498665\n",
      "3.0884086880834465\n",
      "2.972735607597358\n",
      "2.8616418045514957\n",
      "2.754945994054109\n",
      "2.6524740679378094\n",
      "2.5540588106466915\n",
      "2.459539626370949\n",
      "2.3687622769837042\n",
      "2.281578630352411\n",
      "2.1978464186141617\n",
      "2.1174290060203775\n",
      "2.040195165972122\n",
      "1.9660188668821337\n",
      "1.894779066514187\n",
      "1.8263595144641742\n",
      "1.7606485624605726\n",
      "1.6975389821747593\n",
      "1.636927790243872\n",
      "1.5787160802206848\n",
      "1.5228088611762636\n",
      "1.4691149026920352\n",
      "1.417546585988332\n",
      "1.3680197609464688\n",
      "1.3204536087910468\n",
      "1.2747705102084042\n",
      "1.2308959186860047\n",
      "1.1887582388660793\n",
      "1.1482887097150238\n",
      "1.1094212923178788\n",
      "1.072092562114839\n",
      "1.0362416054038923\n",
      "1.0018099199407342\n",
      "0.9687413194737369\n",
      "0.9369818420582062\n",
      "0.9064796620002895\n",
      "0.8771850052868708\n",
      "0.8490500683634254\n",
      "0.8220289401273112\n",
      "0.7960775270091933\n",
      "0.7711534810203525\n",
      "0.7472161306484723\n",
      "0.7242264144891165\n",
      "0.7021468175046234\n",
      "0.6809413098063797\n",
      "0.6605752878605945\n",
      "0.6410155180216229\n",
      "0.622230082300694\n",
      "0.6041883262815625\n",
      "0.5868608090980632\n",
      "0.5702192553919785\n",
      "0.5542365091727909\n",
      "0.5388864895040388\n",
      "0.5241441479439783\n",
      "0.5099854276710696\n",
      "0.49638722422762205\n",
      "0.48332734781752174\n",
      "0.47078448709651455\n",
      "0.45873817439596376\n",
      "0.4471687523233432\n",
      "0.43605734168493837\n",
      "0.42538581067843856\n",
      "0.4151367453051297\n",
      "0.40529342095341564\n",
      "0.39583977510728996\n",
      "0.38676038113523165\n"
     ]
    }
   ],
   "source": [
    "for i in range(100):\n",
    "    outputs=np.dot(inputs,weights)+biases\n",
    "    delta=outputs-targets\n",
    "    loss=np.sum(delta**2)/2/observations\n",
    "    print(loss)\n",
    "    delta_scaled=delta/observations\n",
    "    weights=weights-learning_rate*np.dot(inputs.T,delta_scaled)\n",
    "    biases=biases-learning_rate*np.sum(delta_scaled)\n",
    "    \n",
    "    \n",
    "    "
   ]
  },
  {
   "cell_type": "code",
   "execution_count": 53,
   "metadata": {},
   "outputs": [
    {
     "name": "stdout",
     "output_type": "stream",
     "text": [
      "[[1.99392375]\n",
      " [2.99631656]] [4.30924284]\n"
     ]
    }
   ],
   "source": [
    "print(weights,biases)"
   ]
  },
  {
   "cell_type": "code",
   "execution_count": 57,
   "metadata": {},
   "outputs": [
    {
     "data": {
      "image/png": "[encoded data removed]",
      "text/plain": [
       "<Figure size 432x288 with 1 Axes>"
      ]
     },
     "metadata": {
      "needs_background": "light"
     },
     "output_type": "display_data"
    }
   ],
   "source": [
    "plt.plot(outputs,targets)\n",
    "plt.show()"
   ]
  },
  {
   "cell_type": "code",
   "execution_count": null,
   "metadata": {},
   "outputs": [],
   "source": []
  },
  {
   "cell_type": "code",
   "execution_count": null,
   "metadata": {},
   "outputs": [],
   "source": []
  },
  {
   "cell_type": "code",
   "execution_count": null,
   "metadata": {},
   "outputs": [],
   "source": []
  },
  {
   "cell_type": "code",
   "execution_count": null,
   "metadata": {},
   "outputs": [],
   "source": []
  },
  {
   "cell_type": "code",
   "execution_count": null,
   "metadata": {},
   "outputs": [],
   "source": []
  },
  {
   "cell_type": "code",
   "execution_count": null,
   "metadata": {},
   "outputs": [],
   "source": []
  },
  {
   "cell_type": "code",
   "execution_count": null,
   "metadata": {},
   "outputs": [],
   "source": []
  },
  {
   "cell_type": "code",
   "execution_count": null,
   "metadata": {},
   "outputs": [],
   "source": []
  }
 ],
 "metadata": {
  "kernelspec": {
   "display_name": "Python 3",
   "language": "python",
   "name": "python3"
  },
  "language_info": {
   "codemirror_mode": {
    "name": "ipython",
    "version": 3
   },
   "file_extension": ".py",
   "mimetype": "text/x-python",
   "name": "python",
   "nbconvert_exporter": "python",
   "pygments_lexer": "ipython3",
   "version": "3.7.3"
  }
 },
 "nbformat": 4,
 "nbformat_minor": 2
}
