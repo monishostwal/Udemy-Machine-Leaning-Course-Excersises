{
 "cells": [
  {
   "cell_type": "markdown",
   "metadata": {},
   "source": [
    "### Importing relevant packages"
   ]
  },
  {
   "cell_type": "code",
   "execution_count": 101,
   "metadata": {},
   "outputs": [],
   "source": [
    "import numpy as np\n",
    "from sklearn import preprocessing\n",
    "import keras"
   ]
  },
  {
   "cell_type": "markdown",
   "metadata": {},
   "source": [
    "### Loading Dataset"
   ]
  },
  {
   "cell_type": "code",
   "execution_count": 102,
   "metadata": {},
   "outputs": [],
   "source": [
    "raw_data_with_all_columns=np.loadtxt('./Datasets/Audiobooks_data.csv',delimiter=',')"
   ]
  },
  {
   "cell_type": "code",
   "execution_count": 103,
   "metadata": {},
   "outputs": [
    {
     "data": {
      "text/plain": [
       "(14084, 12)"
      ]
     },
     "execution_count": 103,
     "metadata": {},
     "output_type": "execute_result"
    }
   ],
   "source": [
    "raw_data_with_all_columns.shape"
   ]
  },
  {
   "cell_type": "code",
   "execution_count": 104,
   "metadata": {},
   "outputs": [],
   "source": [
    "raw_input_without_scaled=raw_data_with_all_columns[:,1:-1]\n",
    "raw_targets_without_scaled=raw_data_with_all_columns[:,-1]"
   ]
  },
  {
   "cell_type": "markdown",
   "metadata": {},
   "source": [
    "### Balancing the Dataset"
   ]
  },
  {
   "cell_type": "code",
   "execution_count": 105,
   "metadata": {},
   "outputs": [],
   "source": [
    "count_ones_in_target=int(np.sum(raw_targets_without_scaled))\n",
    "count_zeroes_in_target=0\n",
    "index_to_be_removed=[]\n",
    "for i in range(len(raw_targets_without_scaled)):\n",
    "    if(raw_targets_without_scaled[i]==0):\n",
    "        count_zeroes_in_target+=1\n",
    "        if(count_zeroes_in_target>count_ones_in_target):\n",
    "            index_to_be_removed.append(i)\n",
    "\n",
    "unscaled_input_prior=np.delete(raw_input_without_scaled,index_to_be_removed,axis=0)\n",
    "unscaled_target_prior=np.delete(raw_targets_without_scaled,index_to_be_removed,axis=0)"
   ]
  },
  {
   "cell_type": "markdown",
   "metadata": {},
   "source": [
    "### Standardize the inputs"
   ]
  },
  {
   "cell_type": "code",
   "execution_count": 106,
   "metadata": {},
   "outputs": [],
   "source": [
    "\n",
    "scaled_inputs=preprocessing.scale(unscaled_input_prior)"
   ]
  },
  {
   "cell_type": "code",
   "execution_count": 107,
   "metadata": {},
   "outputs": [
    {
     "data": {
      "text/plain": [
       "array([[ 0.21053387, -0.18888517,  1.97823887, ...,  4.80955413,\n",
       "        11.83828419,  0.09415043],\n",
       "       [ 1.27894497,  0.41646744, -0.39082475, ..., -0.41569922,\n",
       "        -0.20183481, -0.80255852],\n",
       "       [ 1.27894497,  0.41646744, -0.39082475, ..., -0.41569922,\n",
       "        -0.20183481,  2.979214  ],\n",
       "       ...,\n",
       "       [ 1.27894497,  0.41646744, -0.39082475, ..., -0.41569922,\n",
       "        -0.20183481, -0.7440775 ],\n",
       "       [ 0.31737498,  1.7482432 ,  0.04679395, ..., -0.41569922,\n",
       "        -0.20183481, -0.80255852],\n",
       "       [ 0.31737498,  1.7482432 , -0.39082475, ..., -0.41569922,\n",
       "        -0.20183481, -0.80255852]])"
      ]
     },
     "execution_count": 107,
     "metadata": {},
     "output_type": "execute_result"
    }
   ],
   "source": [
    "scaled_inputs"
   ]
  },
  {
   "cell_type": "markdown",
   "metadata": {},
   "source": [
    "### Shuffle the data"
   ]
  },
  {
   "cell_type": "code",
   "execution_count": 108,
   "metadata": {},
   "outputs": [],
   "source": [
    "from random import shuffle\n",
    "indices=np.arange(len(scaled_inputs))\n",
    "shuffle(indices)\n",
    "shuffled_input=scaled_inputs[indices]\n",
    "shuffled_target=unscaled_target_prior[indices]"
   ]
  },
  {
   "cell_type": "markdown",
   "metadata": {},
   "source": [
    "### Dividing data into training,validation,testing"
   ]
  },
  {
   "cell_type": "code",
   "execution_count": 109,
   "metadata": {},
   "outputs": [
    {
     "name": "stdout",
     "output_type": "stream",
     "text": [
      "1759.0\n",
      "225.0\n",
      "253.0\n"
     ]
    }
   ],
   "source": [
    "total_sample=len(shuffled_target)\n",
    "training_sample=int(total_sample*0.8)\n",
    "validation_sample=int(total_sample*0.1)\n",
    "testing_sample=total_sample-training_sample-validation_sample\n",
    "training_inputs=shuffled_input[:training_sample]\n",
    "training_targets=shuffled_target[:training_sample]\n",
    "validation_inputs=shuffled_input[training_sample:training_sample+validation_sample]\n",
    "validation_targets=shuffled_target[training_sample:training_sample+validation_sample]\n",
    "testing_inputs=shuffled_input[validation_sample+training_sample:]\n",
    "testing_targets=shuffled_target[validation_sample+training_sample:]\n",
    "print(sum(training_targets))\n",
    "print(sum(testing_targets))\n",
    "print(sum(validation_targets))\n"
   ]
  },
  {
   "cell_type": "markdown",
   "metadata": {},
   "source": [
    "### Save all the datasets in npz format"
   ]
  },
  {
   "cell_type": "code",
   "execution_count": 110,
   "metadata": {},
   "outputs": [
    {
     "ename": "FileNotFoundError",
     "evalue": "[Errno 2] No such file or directory: './Prepossesed Dataset/audiobook_data_train.npz'",
     "output_type": "error",
     "traceback": [
      "\u001b[1;31m---------------------------------------------------------------------------\u001b[0m",
      "\u001b[1;31mFileNotFoundError\u001b[0m                         Traceback (most recent call last)",
      "\u001b[1;32m<ipython-input-110-1cc267c09712>\u001b[0m in \u001b[0;36m<module>\u001b[1;34m()\u001b[0m\n\u001b[1;32m----> 1\u001b[1;33m \u001b[0mnp\u001b[0m\u001b[1;33m.\u001b[0m\u001b[0msavez\u001b[0m\u001b[1;33m(\u001b[0m\u001b[1;34m'./Prepossesed Dataset/audiobook_data_train'\u001b[0m\u001b[1;33m,\u001b[0m\u001b[0minputs\u001b[0m\u001b[1;33m=\u001b[0m\u001b[0mtraining_inputs\u001b[0m\u001b[1;33m,\u001b[0m\u001b[0mtargets\u001b[0m\u001b[1;33m=\u001b[0m\u001b[0mtraining_targets\u001b[0m\u001b[1;33m)\u001b[0m\u001b[1;33m\u001b[0m\u001b[1;33m\u001b[0m\u001b[0m\n\u001b[0m\u001b[0;32m      2\u001b[0m \u001b[0mnp\u001b[0m\u001b[1;33m.\u001b[0m\u001b[0msavez\u001b[0m\u001b[1;33m(\u001b[0m\u001b[1;34m'./Prepossesed Dataset/audiobook_data_validation'\u001b[0m\u001b[1;33m,\u001b[0m\u001b[0minputs\u001b[0m\u001b[1;33m=\u001b[0m\u001b[0mvalidation_inputs\u001b[0m\u001b[1;33m,\u001b[0m\u001b[0mtargets\u001b[0m\u001b[1;33m=\u001b[0m\u001b[0mvalidation_targets\u001b[0m\u001b[1;33m)\u001b[0m\u001b[1;33m\u001b[0m\u001b[1;33m\u001b[0m\u001b[0m\n\u001b[0;32m      3\u001b[0m \u001b[0mnp\u001b[0m\u001b[1;33m.\u001b[0m\u001b[0msavez\u001b[0m\u001b[1;33m(\u001b[0m\u001b[1;34m'./Prepossesed Dataset/audiobook_data_testing'\u001b[0m\u001b[1;33m,\u001b[0m\u001b[0minputs\u001b[0m\u001b[1;33m=\u001b[0m\u001b[0mtesting_inputs\u001b[0m\u001b[1;33m,\u001b[0m\u001b[0mtargets\u001b[0m\u001b[1;33m=\u001b[0m\u001b[0mtesting_targets\u001b[0m\u001b[1;33m)\u001b[0m\u001b[1;33m\u001b[0m\u001b[1;33m\u001b[0m\u001b[0m\n",
      "\u001b[1;32m<__array_function__ internals>\u001b[0m in \u001b[0;36msavez\u001b[1;34m(*args, **kwargs)\u001b[0m\n",
      "\u001b[1;32mC:\\Users\\MONISH\\Anaconda3\\lib\\site-packages\\numpy\\lib\\npyio.py\u001b[0m in \u001b[0;36msavez\u001b[1;34m(file, *args, **kwds)\u001b[0m\n\u001b[0;32m    630\u001b[0m \u001b[1;33m\u001b[0m\u001b[0m\n\u001b[0;32m    631\u001b[0m     \"\"\"\n\u001b[1;32m--> 632\u001b[1;33m     \u001b[0m_savez\u001b[0m\u001b[1;33m(\u001b[0m\u001b[0mfile\u001b[0m\u001b[1;33m,\u001b[0m \u001b[0margs\u001b[0m\u001b[1;33m,\u001b[0m \u001b[0mkwds\u001b[0m\u001b[1;33m,\u001b[0m \u001b[1;32mFalse\u001b[0m\u001b[1;33m)\u001b[0m\u001b[1;33m\u001b[0m\u001b[1;33m\u001b[0m\u001b[0m\n\u001b[0m\u001b[0;32m    633\u001b[0m \u001b[1;33m\u001b[0m\u001b[0m\n\u001b[0;32m    634\u001b[0m \u001b[1;33m\u001b[0m\u001b[0m\n",
      "\u001b[1;32mC:\\Users\\MONISH\\Anaconda3\\lib\\site-packages\\numpy\\lib\\npyio.py\u001b[0m in \u001b[0;36m_savez\u001b[1;34m(file, args, kwds, compress, allow_pickle, pickle_kwargs)\u001b[0m\n\u001b[0;32m    728\u001b[0m         \u001b[0mcompression\u001b[0m \u001b[1;33m=\u001b[0m \u001b[0mzipfile\u001b[0m\u001b[1;33m.\u001b[0m\u001b[0mZIP_STORED\u001b[0m\u001b[1;33m\u001b[0m\u001b[1;33m\u001b[0m\u001b[0m\n\u001b[0;32m    729\u001b[0m \u001b[1;33m\u001b[0m\u001b[0m\n\u001b[1;32m--> 730\u001b[1;33m     \u001b[0mzipf\u001b[0m \u001b[1;33m=\u001b[0m \u001b[0mzipfile_factory\u001b[0m\u001b[1;33m(\u001b[0m\u001b[0mfile\u001b[0m\u001b[1;33m,\u001b[0m \u001b[0mmode\u001b[0m\u001b[1;33m=\u001b[0m\u001b[1;34m\"w\"\u001b[0m\u001b[1;33m,\u001b[0m \u001b[0mcompression\u001b[0m\u001b[1;33m=\u001b[0m\u001b[0mcompression\u001b[0m\u001b[1;33m)\u001b[0m\u001b[1;33m\u001b[0m\u001b[1;33m\u001b[0m\u001b[0m\n\u001b[0m\u001b[0;32m    731\u001b[0m \u001b[1;33m\u001b[0m\u001b[0m\n\u001b[0;32m    732\u001b[0m     \u001b[1;32mif\u001b[0m \u001b[0msys\u001b[0m\u001b[1;33m.\u001b[0m\u001b[0mversion_info\u001b[0m \u001b[1;33m>=\u001b[0m \u001b[1;33m(\u001b[0m\u001b[1;36m3\u001b[0m\u001b[1;33m,\u001b[0m \u001b[1;36m6\u001b[0m\u001b[1;33m)\u001b[0m\u001b[1;33m:\u001b[0m\u001b[1;33m\u001b[0m\u001b[1;33m\u001b[0m\u001b[0m\n",
      "\u001b[1;32mC:\\Users\\MONISH\\Anaconda3\\lib\\site-packages\\numpy\\lib\\npyio.py\u001b[0m in \u001b[0;36mzipfile_factory\u001b[1;34m(file, *args, **kwargs)\u001b[0m\n\u001b[0;32m    117\u001b[0m     \u001b[1;32mimport\u001b[0m \u001b[0mzipfile\u001b[0m\u001b[1;33m\u001b[0m\u001b[1;33m\u001b[0m\u001b[0m\n\u001b[0;32m    118\u001b[0m     \u001b[0mkwargs\u001b[0m\u001b[1;33m[\u001b[0m\u001b[1;34m'allowZip64'\u001b[0m\u001b[1;33m]\u001b[0m \u001b[1;33m=\u001b[0m \u001b[1;32mTrue\u001b[0m\u001b[1;33m\u001b[0m\u001b[1;33m\u001b[0m\u001b[0m\n\u001b[1;32m--> 119\u001b[1;33m     \u001b[1;32mreturn\u001b[0m \u001b[0mzipfile\u001b[0m\u001b[1;33m.\u001b[0m\u001b[0mZipFile\u001b[0m\u001b[1;33m(\u001b[0m\u001b[0mfile\u001b[0m\u001b[1;33m,\u001b[0m \u001b[1;33m*\u001b[0m\u001b[0margs\u001b[0m\u001b[1;33m,\u001b[0m \u001b[1;33m**\u001b[0m\u001b[0mkwargs\u001b[0m\u001b[1;33m)\u001b[0m\u001b[1;33m\u001b[0m\u001b[1;33m\u001b[0m\u001b[0m\n\u001b[0m\u001b[0;32m    120\u001b[0m \u001b[1;33m\u001b[0m\u001b[0m\n\u001b[0;32m    121\u001b[0m \u001b[1;33m\u001b[0m\u001b[0m\n",
      "\u001b[1;32mC:\\Users\\MONISH\\Anaconda3\\lib\\zipfile.py\u001b[0m in \u001b[0;36m__init__\u001b[1;34m(self, file, mode, compression, allowZip64, compresslevel)\u001b[0m\n\u001b[0;32m   1202\u001b[0m             \u001b[1;32mwhile\u001b[0m \u001b[1;32mTrue\u001b[0m\u001b[1;33m:\u001b[0m\u001b[1;33m\u001b[0m\u001b[1;33m\u001b[0m\u001b[0m\n\u001b[0;32m   1203\u001b[0m                 \u001b[1;32mtry\u001b[0m\u001b[1;33m:\u001b[0m\u001b[1;33m\u001b[0m\u001b[1;33m\u001b[0m\u001b[0m\n\u001b[1;32m-> 1204\u001b[1;33m                     \u001b[0mself\u001b[0m\u001b[1;33m.\u001b[0m\u001b[0mfp\u001b[0m \u001b[1;33m=\u001b[0m \u001b[0mio\u001b[0m\u001b[1;33m.\u001b[0m\u001b[0mopen\u001b[0m\u001b[1;33m(\u001b[0m\u001b[0mfile\u001b[0m\u001b[1;33m,\u001b[0m \u001b[0mfilemode\u001b[0m\u001b[1;33m)\u001b[0m\u001b[1;33m\u001b[0m\u001b[1;33m\u001b[0m\u001b[0m\n\u001b[0m\u001b[0;32m   1205\u001b[0m                 \u001b[1;32mexcept\u001b[0m \u001b[0mOSError\u001b[0m\u001b[1;33m:\u001b[0m\u001b[1;33m\u001b[0m\u001b[1;33m\u001b[0m\u001b[0m\n\u001b[0;32m   1206\u001b[0m                     \u001b[1;32mif\u001b[0m \u001b[0mfilemode\u001b[0m \u001b[1;32min\u001b[0m \u001b[0mmodeDict\u001b[0m\u001b[1;33m:\u001b[0m\u001b[1;33m\u001b[0m\u001b[1;33m\u001b[0m\u001b[0m\n",
      "\u001b[1;31mFileNotFoundError\u001b[0m: [Errno 2] No such file or directory: './Prepossesed Dataset/audiobook_data_train.npz'"
     ]
    }
   ],
   "source": [
    "np.savez('./Prepossesed Dataset/audiobook_data_train',inputs=training_inputs,targets=training_targets)\n",
    "np.savez('./Prepossesed Dataset/audiobook_data_validation',inputs=validation_inputs,targets=validation_targets)\n",
    "np.savez('./Prepossesed Dataset/audiobook_data_testing',inputs=testing_inputs,targets=testing_targets)"
   ]
  },
  {
   "cell_type": "markdown",
   "metadata": {},
   "source": [
    "### Data"
   ]
  },
  {
   "cell_type": "code",
   "execution_count": 111,
   "metadata": {},
   "outputs": [],
   "source": [
    "npz=np.load('./Prepossesed_Dataset/audiobook_data_train.npz')\n",
    "train_inputs=npz['inputs'].astype(np.float)\n",
    "train_targets=npz['targets'].astype(np.int)\n",
    "\n",
    "\n",
    "\n",
    "npz=np.load('./Prepossesed_Dataset/audiobook_data_validation.npz')\n",
    "validation_inputs=npz['inputs'].astype(np.float)\n",
    "validation_targets=npz['targets'].astype(np.int)\n",
    "\n",
    "\n",
    "\n",
    "npz=np.load('./Prepossesed_Dataset/audiobook_data_testing.npz')\n",
    "testing_inputs=npz['inputs'].astype(np.float)\n",
    "testing_targets=npz['targets'].astype(np.int)"
   ]
  },
  {
   "cell_type": "markdown",
   "metadata": {},
   "source": [
    "### Model"
   ]
  },
  {
   "cell_type": "code",
   "execution_count": 112,
   "metadata": {},
   "outputs": [],
   "source": [
    "input_size=10\n",
    "output_size=2\n",
    "hidden_nodes=50\n",
    "early_Stopping=keras.callbacks.EarlyStopping(patience=2)\n",
    "model=keras.Sequential([\n",
    "                     \n",
    "                        keras.layers.Dense(hidden_nodes,activation='relu'),\n",
    "                        keras.layers.Dense(hidden_nodes,activation='relu'),\n",
    "                        keras.layers.Dense(output_size,activation='softmax')\n",
    "])"
   ]
  },
  {
   "cell_type": "code",
   "execution_count": 113,
   "metadata": {},
   "outputs": [],
   "source": [
    "model.compile(optimizer='adam',loss='sparse_categorical_crossentropy',metrics=['accuracy'])# By using Sparse Categorical CrossEntropy we will not have to do one hot encoding"
   ]
  },
  {
   "cell_type": "code",
   "execution_count": 114,
   "metadata": {},
   "outputs": [
    {
     "name": "stdout",
     "output_type": "stream",
     "text": [
      "Train on 3579 samples, validate on 447 samples\n",
      "Epoch 1/100\n",
      "3579/3579 [==============================] - 0s 107us/step - loss: 0.6457 - accuracy: 0.6234 - val_loss: 0.5668 - val_accuracy: 0.7069\n",
      "Epoch 2/100\n",
      "3579/3579 [==============================] - 0s 28us/step - loss: 0.5075 - accuracy: 0.7483 - val_loss: 0.4697 - val_accuracy: 0.7405\n",
      "Epoch 3/100\n",
      "3579/3579 [==============================] - 0s 25us/step - loss: 0.4400 - accuracy: 0.7709 - val_loss: 0.4259 - val_accuracy: 0.7651\n",
      "Epoch 4/100\n",
      "3579/3579 [==============================] - 0s 22us/step - loss: 0.4015 - accuracy: 0.7871 - val_loss: 0.4008 - val_accuracy: 0.7763\n",
      "Epoch 5/100\n",
      "3579/3579 [==============================] - 0s 22us/step - loss: 0.3784 - accuracy: 0.7980 - val_loss: 0.3840 - val_accuracy: 0.8076\n",
      "Epoch 6/100\n",
      "3579/3579 [==============================] - 0s 21us/step - loss: 0.3649 - accuracy: 0.8008 - val_loss: 0.3657 - val_accuracy: 0.8210\n",
      "Epoch 7/100\n",
      "3579/3579 [==============================] - 0s 23us/step - loss: 0.3573 - accuracy: 0.8078 - val_loss: 0.3790 - val_accuracy: 0.8076\n",
      "Epoch 8/100\n",
      "3579/3579 [==============================] - 0s 23us/step - loss: 0.3508 - accuracy: 0.8131 - val_loss: 0.3598 - val_accuracy: 0.8121\n",
      "Epoch 9/100\n",
      "3579/3579 [==============================] - 0s 23us/step - loss: 0.3433 - accuracy: 0.8108 - val_loss: 0.3549 - val_accuracy: 0.8076\n",
      "Epoch 10/100\n",
      "3579/3579 [==============================] - 0s 23us/step - loss: 0.3402 - accuracy: 0.8156 - val_loss: 0.3573 - val_accuracy: 0.8054\n",
      "Epoch 11/100\n",
      "3579/3579 [==============================] - 0s 22us/step - loss: 0.3365 - accuracy: 0.8170 - val_loss: 0.3567 - val_accuracy: 0.8188\n"
     ]
    },
    {
     "data": {
      "text/plain": [
       "<keras.callbacks.callbacks.History at 0xa94e29fbe0>"
      ]
     },
     "execution_count": 114,
     "metadata": {},
     "output_type": "execute_result"
    }
   ],
   "source": [
    "model.fit(train_inputs,train_targets,batch_size=100,epochs=100,verbose=1,callbacks=[early_Stopping],validation_data=(validation_inputs,validation_targets ))"
   ]
  },
  {
   "cell_type": "code",
   "execution_count": 117,
   "metadata": {},
   "outputs": [
    {
     "name": "stdout",
     "output_type": "stream",
     "text": [
      "448/448 [==============================] - 0s 116us/step\n"
     ]
    },
    {
     "data": {
      "text/plain": [
       "[0.34201934933662415, 0.828125]"
      ]
     },
     "execution_count": 117,
     "metadata": {},
     "output_type": "execute_result"
    }
   ],
   "source": [
    "model.evaluate(testing_inputs,testing_targets)"
   ]
  },
  {
   "cell_type": "code",
   "execution_count": null,
   "metadata": {},
   "outputs": [],
   "source": []
  },
  {
   "cell_type": "code",
   "execution_count": null,
   "metadata": {},
   "outputs": [],
   "source": []
  },
  {
   "cell_type": "code",
   "execution_count": null,
   "metadata": {},
   "outputs": [],
   "source": []
  },
  {
   "cell_type": "code",
   "execution_count": null,
   "metadata": {},
   "outputs": [],
   "source": []
  },
  {
   "cell_type": "code",
   "execution_count": null,
   "metadata": {},
   "outputs": [],
   "source": []
  },
  {
   "cell_type": "code",
   "execution_count": null,
   "metadata": {},
   "outputs": [],
   "source": []
  },
  {
   "cell_type": "code",
   "execution_count": null,
   "metadata": {},
   "outputs": [],
   "source": []
  },
  {
   "cell_type": "code",
   "execution_count": null,
   "metadata": {},
   "outputs": [],
   "source": []
  },
  {
   "cell_type": "code",
   "execution_count": null,
   "metadata": {},
   "outputs": [],
   "source": []
  },
  {
   "cell_type": "code",
   "execution_count": null,
   "metadata": {},
   "outputs": [],
   "source": []
  },
  {
   "cell_type": "code",
   "execution_count": null,
   "metadata": {},
   "outputs": [],
   "source": []
  }
 ],
 "metadata": {
  "kernelspec": {
   "display_name": "Python 3",
   "language": "python",
   "name": "python3"
  },
  "language_info": {
   "codemirror_mode": {
    "name": "ipython",
    "version": 3
   },
   "file_extension": ".py",
   "mimetype": "text/x-python",
   "name": "python",
   "nbconvert_exporter": "python",
   "pygments_lexer": "ipython3",
   "version": "3.7.3"
  }
 },
 "nbformat": 4,
 "nbformat_minor": 2
}
